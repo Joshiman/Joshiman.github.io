{
 "cells": [
  {
   "cell_type": "markdown",
   "metadata": {},
   "source": [
    "### The objective of this work is to creat a stratigraphy data with name, its depth and its respective measured distance (md)  and true vertical distance(tvd). To do this two json file are presented.  \n",
    "              1: stratigraphy.json \n",
    "              2: wellpath.json \n",
    "      \n",
    "  "
   ]
  },
  {
   "cell_type": "code",
   "execution_count": 1,
   "metadata": {},
   "outputs": [
    {
     "data": {
      "text/plain": [
       "'C:\\\\Users\\\\joshi\\\\Downloads\\\\Trial Pwp'"
      ]
     },
     "execution_count": 1,
     "metadata": {},
     "output_type": "execute_result"
    }
   ],
   "source": [
    "pwd"
   ]
  },
  {
   "cell_type": "code",
   "execution_count": null,
   "metadata": {},
   "outputs": [],
   "source": [
    "# import the neccsary python libraries \n",
    "import pandas as pd\n",
    "import numpy as np \n",
    "import json\n",
    "import pprint\n",
    "pp = pprint.PrettyPrinter(indent=4)"
   ]
  },
  {
   "cell_type": "markdown",
   "metadata": {},
   "source": [
    "####  Import the json files in to pandas dataFram"
   ]
  },
  {
   "cell_type": "code",
   "execution_count": null,
   "metadata": {},
   "outputs": [],
   "source": [
    "df_stratigraphy = pd.read_json('stratigraphy.json')"
   ]
  },
  {
   "cell_type": "code",
   "execution_count": null,
   "metadata": {},
   "outputs": [],
   "source": [
    "df_stratigraphy.head(2)"
   ]
  },
  {
   "cell_type": "code",
   "execution_count": null,
   "metadata": {},
   "outputs": [],
   "source": [
    "df_stratigraphy.info()"
   ]
  },
  {
   "cell_type": "code",
   "execution_count": null,
   "metadata": {},
   "outputs": [],
   "source": [
    "df_stratigraphy['md'] = df_stratigraphy.pickDepth*0.305800 # change the pickDepth column to meter "
   ]
  },
  {
   "cell_type": "code",
   "execution_count": null,
   "metadata": {},
   "outputs": [],
   "source": [
    "df_stratigraphy.head(2)"
   ]
  },
  {
   "cell_type": "code",
   "execution_count": null,
   "metadata": {},
   "outputs": [],
   "source": [
    "df_stratigraphy_2 = df_stratigraphy.round()"
   ]
  },
  {
   "cell_type": "code",
   "execution_count": null,
   "metadata": {},
   "outputs": [],
   "source": [
    "df_stratigraphy_2.head(2)"
   ]
  },
  {
   "cell_type": "code",
   "execution_count": null,
   "metadata": {},
   "outputs": [],
   "source": [
    "df_stratigraphy_2.columns "
   ]
  },
  {
   "cell_type": "code",
   "execution_count": null,
   "metadata": {},
   "outputs": [],
   "source": [
    "df_well = pd.read_json('wellpath.json') # load a json file "
   ]
  },
  {
   "cell_type": "code",
   "execution_count": null,
   "metadata": {},
   "outputs": [],
   "source": [
    "df_well_2=df_well.round(2) # round to two decimal place "
   ]
  },
  {
   "cell_type": "code",
   "execution_count": null,
   "metadata": {},
   "outputs": [],
   "source": [
    "merge_md = pd.merge(df_stratigraphy_2, df_well_2,  on='md')# merge the two dataframe in one by measured distance(md)"
   ]
  },
  {
   "cell_type": "code",
   "execution_count": null,
   "metadata": {},
   "outputs": [],
   "source": [
    "merge_md.head() # "
   ]
  },
  {
   "cell_type": "code",
   "execution_count": null,
   "metadata": {},
   "outputs": [],
   "source": [
    "merge_md.info() # the merged file information"
   ]
  },
  {
   "cell_type": "code",
   "execution_count": null,
   "metadata": {},
   "outputs": [],
   "source": [
    "merge_md_sorted  = merge_md.sort_values(by='md')  # sort the date by measured distance (md)"
   ]
  },
  {
   "cell_type": "code",
   "execution_count": null,
   "metadata": {},
   "outputs": [],
   "source": [
    " print(merge_md_sorted.head())"
   ]
  },
  {
   "cell_type": "code",
   "execution_count": null,
   "metadata": {
    "scrolled": true
   },
   "outputs": [],
   "source": [
    "final_well = merge_md_sorted[['pickName', 'md', 'tvd']] # select the relevent columns "
   ]
  },
  {
   "cell_type": "code",
   "execution_count": null,
   "metadata": {
    "scrolled": false
   },
   "outputs": [],
   "source": [
    "final_well['depth'] = np.where(final_well.pickName.str.contains('top'),'top','bottom')# add a new depth column \n",
    "final_well"
   ]
  },
  {
   "cell_type": "code",
   "execution_count": null,
   "metadata": {},
   "outputs": [],
   "source": [
    "final=final_well.to_dict(orient = 'records')\n",
    "final"
   ]
  },
  {
   "cell_type": "code",
   "execution_count": null,
   "metadata": {},
   "outputs": [],
   "source": [
    "#alternate depth top and bottom and later we rearrange again based on the value of tvd\n",
    "keyList=kl=[i['depth'] for i in final]\n",
    "for k in range(len(keyList)-1):\n",
    "    if keyList[k]==keyList[k+1]:\n",
    "        if keyList[k]=='top':\n",
    "            keyList[k+1]='bottom'\n",
    "        elif keyList[k]=='bottom':\n",
    "            keyList[k+1]='top'        \n",
    "keyList  "
   ]
  },
  {
   "cell_type": "code",
   "execution_count": null,
   "metadata": {},
   "outputs": [],
   "source": [
    "final_well['depth']=keyList\n",
    "print(final_well)"
   ]
  },
  {
   "cell_type": "code",
   "execution_count": null,
   "metadata": {},
   "outputs": [],
   "source": [
    "well_arr = final_well.reindex(columns= ['pickName','depth', 'md', 'tvd']) # rearrange the order of the columns \n",
    "print(well_arr)\n"
   ]
  },
  {
   "cell_type": "code",
   "execution_count": null,
   "metadata": {},
   "outputs": [],
   "source": [
    "dic=well_arr.to_dict(orient = 'records')\n",
    "dic"
   ]
  },
  {
   "cell_type": "code",
   "execution_count": null,
   "metadata": {
    "scrolled": true
   },
   "outputs": [],
   "source": [
    "\"\"\"create a nested dictionary\"\"\"\n",
    "def func1(d):\n",
    "    final=list()\n",
    "    for dic in d:\n",
    "        temp=dict()\n",
    "        temp2=dict()\n",
    "        temp['pickName']=dic['pickName']\n",
    "        temp['depth']=dic['depth']\n",
    "        if temp['depth']=='bottom':            \n",
    "            temp2['bottom']={key:dic[key] for key in list(dic)[2:] }\n",
    "            temp['depth']={'bottom':temp2['bottom']}        \n",
    "        else:\n",
    "            temp2['top']={key:dic[key] for key in list(dic)[2:] }\n",
    "            temp['depth']={'top':temp2['top']}                \n",
    "        final.append(temp)\n",
    "    return final\n"
   ]
  },
  {
   "cell_type": "code",
   "execution_count": null,
   "metadata": {
    "scrolled": true
   },
   "outputs": [],
   "source": [
    "final=func1(dic)\n",
    "pp.pprint(final)"
   ]
  },
  {
   "cell_type": "code",
   "execution_count": null,
   "metadata": {
    "scrolled": false
   },
   "outputs": [],
   "source": [
    "pd.DataFrame.from_dict(final)"
   ]
  },
  {
   "cell_type": "code",
   "execution_count": null,
   "metadata": {},
   "outputs": [],
   "source": [
    "\"\"\" make the depth of the current marker is equal to the bottom depth of the previous marker\"\"\"\n",
    "def func(final):\n",
    "    cc=list()\n",
    "    for i in range(len(final)-1):       \n",
    "        c=dict()\n",
    "        if final[i]['pickName'].endswith('top'):\n",
    "            c['pickName']=final[i]['pickName']\n",
    "            # Merge current dic md and tvd value to dic below it\n",
    "            c['depth']={**final[i]['depth'], **final[i+1]['depth']}\n",
    "            cc.append(c)\n",
    "        elif final[i]['pickName'].endswith('base') or final[i]['pickName'].endswith('ALT'):\n",
    "            c['pickName']=final[i]['pickName']\n",
    "            c['depth']={**final[i]['depth'], **final[i+1]['depth']}\n",
    "            # Interchange bottom values to top and top values to bottom \n",
    "            val=list(c['depth'].values())\n",
    "            c['depth']['bottom']=val[1]\n",
    "            c['depth']['top']=val[0]\n",
    "            cc.append(c)      \n",
    "    return cc\n"
   ]
  },
  {
   "cell_type": "code",
   "execution_count": null,
   "metadata": {
    "scrolled": true
   },
   "outputs": [],
   "source": [
    "resp=func(final)\n",
    "pp.pprint(resp)\n",
    "#print(resp)"
   ]
  },
  {
   "cell_type": "code",
   "execution_count": null,
   "metadata": {},
   "outputs": [],
   "source": [
    "\"\"\"the code arrange the top and bottom on pickName H_base, which the top is larger than the bottom \"\"\"\n",
    "def arrangeTopAndBottom(dic):    \n",
    "    for i in range(len(dic)):\n",
    "        if dic[i]['depth']['bottom']['tvd']<dic[i]['depth']['top']['tvd']:\n",
    "                val=list(dic[i]['depth'].values())\n",
    "                #print(val)\n",
    "                dic[i]['depth']['bottom']=val[1]\n",
    "                dic[i]['depth']['top']=val[0] \n",
    "    return dic\n",
    "    \n"
   ]
  },
  {
   "cell_type": "code",
   "execution_count": null,
   "metadata": {},
   "outputs": [],
   "source": [
    "diff = arrangeTopAndBottom(resp)\n",
    "#pp.pprint(arr_list)\n",
    "print(diff)"
   ]
  },
  {
   "cell_type": "code",
   "execution_count": null,
   "metadata": {},
   "outputs": [],
   "source": [
    "len(diff)"
   ]
  },
  {
   "cell_type": "code",
   "execution_count": null,
   "metadata": {},
   "outputs": [],
   "source": [
    "\"\"\"changing the name of the bases to undifferentiated\"\"\"\n",
    "for d in range(len(diff)):\n",
    "    if 'base' in diff[d]['pickName']:\n",
    "        diff[d]['pickName'] = 'undifferentiated'\n",
    "        #print(list(diff[d].keys()))"
   ]
  },
  {
   "cell_type": "code",
   "execution_count": null,
   "metadata": {
    "scrolled": false
   },
   "outputs": [],
   "source": [
    "diff"
   ]
  },
  {
   "cell_type": "code",
   "execution_count": null,
   "metadata": {},
   "outputs": [],
   "source": []
  }
 ],
 "metadata": {
  "kernelspec": {
   "display_name": "Python 3",
   "language": "python",
   "name": "python3"
  },
  "language_info": {
   "codemirror_mode": {
    "name": "ipython",
    "version": 3
   },
   "file_extension": ".py",
   "mimetype": "text/x-python",
   "name": "python",
   "nbconvert_exporter": "python",
   "pygments_lexer": "ipython3",
   "version": "3.7.3"
  }
 },
 "nbformat": 4,
 "nbformat_minor": 2
}
